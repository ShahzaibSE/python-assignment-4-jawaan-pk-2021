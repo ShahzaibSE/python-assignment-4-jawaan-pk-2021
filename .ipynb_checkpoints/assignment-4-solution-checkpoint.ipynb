{
 "cells": [
  {
   "cell_type": "markdown",
   "id": "b35e230d",
   "metadata": {},
   "source": [
    "### 1. Make a calculator using Python with addition , subtraction ,multiplication ,division and power."
   ]
  },
  {
   "cell_type": "code",
   "execution_count": 28,
   "id": "1db7a80d",
   "metadata": {},
   "outputs": [
    {
     "name": "stdout",
     "output_type": "stream",
     "text": [
      "Options\n",
      "+\n",
      "-\n",
      "*\n",
      "/\n",
      "^\n",
      "Enter operation:q\n",
      "Enter operation:+\n",
      "Enter first number:3\n",
      "Enter second number:3\n",
      "3 + 3 = 6\n",
      "Let's do next calculation? (yes/no): no\n"
     ]
    }
   ],
   "source": [
    "def add(num1, num2):\n",
    "    return num1 + num2\n",
    "\n",
    "def subtract(x, y):\n",
    "    return x - y\n",
    "\n",
    "def multiply(x, y):\n",
    "    return x * y\n",
    "\n",
    "def divide(x, y):\n",
    "    return x / y\n",
    "\n",
    "def power(x, y):\n",
    "    return x**y\n",
    "\n",
    "print(\"Options\")\n",
    "print(\"+\")\n",
    "print(\"-\")\n",
    "print(\"*\")\n",
    "print(\"/\")\n",
    "print(\"^\")\n",
    "\n",
    "while True:\n",
    "    operation = input(\"Enter operation:\")\n",
    "    \n",
    "    if operation in (\"+\", \"-\", \"*\", \"/\", \"^\"):\n",
    "        num1 = int(input(\"Enter first number:\"))\n",
    "        num2 = int(input(\"Enter second number:\"))\n",
    "        \n",
    "        if operation == '+':\n",
    "            print(num1, \"+\", num2, \"=\", add(num1, num2))\n",
    "\n",
    "        elif operation == '-':\n",
    "            print(num1, \"-\", num2, \"=\", subtract(num1, num2))\n",
    "\n",
    "        elif operation == '*':\n",
    "            print(num1, \"*\", num2, \"=\", multiply(num1, num2))\n",
    "\n",
    "        elif operation == '/':\n",
    "            print(num1, \"/\", num2, \"=\", divide(num1, num2))\n",
    "            \n",
    "        elif operation == '^':\n",
    "            print(num1, \"^\", num2, \"=\", power(num1, num2))\n",
    "        \n",
    "        # check if user wants another calculation\n",
    "        continue_calculation = input(\"Let's do next calculation? (yes/no): \")\n",
    "        if continue_calculation == \"no\":\n",
    "          break\n",
    "        else:\n",
    "            print()\n",
    "            print(\"Continue...\")\n",
    "        \n",
    "\n",
    " \n",
    "    "
   ]
  },
  {
   "cell_type": "markdown",
   "id": "e8f4e0ac",
   "metadata": {},
   "source": [
    "### 2. Write a program to check if there is any numeric value in list using for loop."
   ]
  },
  {
   "cell_type": "code",
   "execution_count": 37,
   "id": "db7b12bc",
   "metadata": {},
   "outputs": [
    {
     "name": "stdout",
     "output_type": "stream",
     "text": [
      "1 is <class 'int'>\n",
      "11 is <class 'int'>\n",
      "45 is <class 'int'>\n"
     ]
    }
   ],
   "source": [
    "arr = [1, \"2\", \"Jake\", 11, 45]\n",
    "#\n",
    "for element in arr:\n",
    "    if (type(element) == int):\n",
    "        print(\"{} is {}\".format(element, type(element)))\n",
    "\n"
   ]
  },
  {
   "cell_type": "markdown",
   "id": "635cabd4",
   "metadata": {},
   "source": [
    "### 3. Write a Python script to add a key to a dictionary."
   ]
  },
  {
   "cell_type": "code",
   "execution_count": 39,
   "id": "0c96819e",
   "metadata": {},
   "outputs": [
    {
     "name": "stdout",
     "output_type": "stream",
     "text": [
      "Current data\n",
      "{'id': 1, 'firstname': 'Bruce', 'lastname': 'Wayne'}\n",
      "After adding a key\n",
      "{'id': 1, 'firstname': 'Bruce', 'lastname': 'Wayne', 'age': 28}\n"
     ]
    }
   ],
   "source": [
    "student = {'id': 1, 'firstname': \"Bruce\", 'lastname': \"Wayne\"}\n",
    "print(\"Current data\")\n",
    "print(student)\n",
    "print(\"After adding a key\")\n",
    "student['age'] = 28\n",
    "print(student)"
   ]
  },
  {
   "cell_type": "markdown",
   "id": "91fd5bcd",
   "metadata": {},
   "source": [
    "### 4. Write a Python program to sum all the numeric items in a dictionary."
   ]
  },
  {
   "cell_type": "code",
   "execution_count": 41,
   "id": "aafa4501",
   "metadata": {},
   "outputs": [
    {
     "name": "stdout",
     "output_type": "stream",
     "text": [
      "Total numeric items: 11\n"
     ]
    }
   ],
   "source": [
    "inventory = {\"category\": \"Grocery\", 'eggs': 2, 'potatoes': 4, 'tomatoes': 5}\n",
    "total = 0\n",
    "#\n",
    "for item in inventory.values():\n",
    "    if (type(item) == int):\n",
    "        total = item + total\n",
    "\n",
    "print(\"Total numeric items: {}\".format(total))        "
   ]
  },
  {
   "cell_type": "markdown",
   "id": "2b08908f",
   "metadata": {},
   "source": [
    "### 5. Write a program to identify duplicate values from list."
   ]
  },
  {
   "cell_type": "code",
   "execution_count": 42,
   "id": "04344da7",
   "metadata": {},
   "outputs": [
    {
     "name": "stdout",
     "output_type": "stream",
     "text": [
      "['Ok', 'is', 'test']\n"
     ]
    }
   ],
   "source": [
    "list_items = ['Hello', 'Ok', 'is', 'Ok', 'test', 'this', 'is', 'a', 'test']\n",
    "#\n",
    "def Repeat(x):\n",
    "    _size = len(x)\n",
    "    repeated = []\n",
    "    for i in range(_size):\n",
    "        k = i + 1\n",
    "        for j in range(k, _size):\n",
    "            if x[i] == x[j] and x[i] not in repeated:\n",
    "                repeated.append(x[i])\n",
    "    return repeated\n",
    " \n",
    "print (Repeat(list_items))"
   ]
  },
  {
   "cell_type": "markdown",
   "id": "1f5ef6c5",
   "metadata": {},
   "source": [
    "### 6. Write a Python script to check if a given key already exists in a dictionary"
   ]
  },
  {
   "cell_type": "code",
   "execution_count": 59,
   "id": "a07c0837",
   "metadata": {},
   "outputs": [
    {
     "name": "stdout",
     "output_type": "stream",
     "text": [
      "Key already exists: a\n"
     ]
    }
   ],
   "source": [
    "dict1 = {\"a\": 1, \"b\": 2, \"c\" : 4}\n",
    "#\n",
    "def checkExistingKey(sample, myKey):\n",
    "    for key in sample.keys():\n",
    "        if(myKey == key):\n",
    "            print(\"Key already exists: {}\".format(key))\n",
    "            break\n",
    "\n",
    "checkExistingKey(dict1,\"a\")\n",
    "    "
   ]
  },
  {
   "cell_type": "code",
   "execution_count": null,
   "id": "cb447304",
   "metadata": {},
   "outputs": [],
   "source": []
  }
 ],
 "metadata": {
  "kernelspec": {
   "display_name": "Python 3 (ipykernel)",
   "language": "python",
   "name": "python3"
  },
  "language_info": {
   "codemirror_mode": {
    "name": "ipython",
    "version": 3
   },
   "file_extension": ".py",
   "mimetype": "text/x-python",
   "name": "python",
   "nbconvert_exporter": "python",
   "pygments_lexer": "ipython3",
   "version": "3.8.5"
  }
 },
 "nbformat": 4,
 "nbformat_minor": 5
}
